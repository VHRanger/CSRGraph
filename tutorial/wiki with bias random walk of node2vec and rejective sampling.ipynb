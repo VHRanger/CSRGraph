{
 "cells": [
  {
   "cell_type": "code",
   "execution_count": 1,
   "id": "cb6b40cf",
   "metadata": {},
   "outputs": [],
   "source": [
    "import numpy as np\n",
    "\n",
    "import matplotlib.pyplot as plt\n",
    "import networkx as nx\n",
    "from csrgraph import csrgraph\n",
    "from csrgraph.random_walks import (\n",
    "    _random_walk, _node2vec_walks,_node2vec_walks_with_rejective_sampling\n",
    ")\n"
   ]
  },
  {
   "cell_type": "code",
   "execution_count": 2,
   "id": "ba680ed4",
   "metadata": {},
   "outputs": [],
   "source": [
    "\n",
    "G=nx.read_edgelist('Wiki_edgelist.txt',\n",
    "                     create_using = nx.DiGraph(), nodetype = None, data = [('weight', int)])\n",
    "G=csrgraph(G)"
   ]
  },
  {
   "cell_type": "code",
   "execution_count": 3,
   "id": "f35062db",
   "metadata": {},
   "outputs": [],
   "source": [
    "return_weight=2\n",
    "neighbor_weight=5"
   ]
  },
  {
   "cell_type": "code",
   "execution_count": 4,
   "id": "4a08c407",
   "metadata": {},
   "outputs": [
    {
     "data": {
      "text/plain": [
       "array([[   0,    5,  296, ...,  107,    8,   14],\n",
       "       [   1,    4,    4, ...,  479,  313,  122],\n",
       "       [   2,  520,  520, ...,  659,    5, 1501],\n",
       "       ...,\n",
       "       [2402, 2402, 2402, ...,    9,  104,  210],\n",
       "       [2403,    5,   99, ...,   13,   48,   41],\n",
       "       [2404, 2404, 2404, ..., 2404, 2404, 2404]], dtype=uint32)"
      ]
     },
     "execution_count": 4,
     "metadata": {},
     "output_type": "execute_result"
    }
   ],
   "source": [
    "random_walks=G.random_walks(return_weight=return_weight,neighbor_weight =neighbor_weight)\n",
    "random_walks"
   ]
  },
  {
   "cell_type": "code",
   "execution_count": 5,
   "id": "8ff9864d",
   "metadata": {},
   "outputs": [
    {
     "data": {
      "text/plain": [
       "(2405, 10)"
      ]
     },
     "execution_count": 5,
     "metadata": {},
     "output_type": "execute_result"
    }
   ],
   "source": [
    "random_walks.shape"
   ]
  },
  {
   "cell_type": "code",
   "execution_count": 6,
   "id": "ffd04f2f",
   "metadata": {},
   "outputs": [
    {
     "data": {
      "text/plain": [
       "array([[   0,    3,  461, ...,  673,   26,   30],\n",
       "       [   1,  289,  429, ...,   36,  161,   26],\n",
       "       [   2,  520,  263, ...,  106,   98,   98],\n",
       "       ...,\n",
       "       [2402,    9,  210, ...,  181,   98,  919],\n",
       "       [2403,    5,   14, ...,   19,  354,  354],\n",
       "       [2404, 2404, 2404, ..., 2404, 2404, 2404]], dtype=uint32)"
      ]
     },
     "execution_count": 6,
     "metadata": {},
     "output_type": "execute_result"
    }
   ],
   "source": [
    "random_walks=G.random_walks(return_weight=return_weight,neighbor_weight =neighbor_weight,use_rejective_sampling=True)\n",
    "random_walks"
   ]
  },
  {
   "cell_type": "code",
   "execution_count": 6,
   "id": "5f556b84",
   "metadata": {},
   "outputs": [
    {
     "data": {
      "text/plain": [
       "(2405, 10)"
      ]
     },
     "execution_count": 6,
     "metadata": {},
     "output_type": "execute_result"
    }
   ],
   "source": [
    "random_walks.shape"
   ]
  },
  {
   "cell_type": "code",
   "execution_count": null,
   "id": "eebf36b4",
   "metadata": {},
   "outputs": [],
   "source": []
  }
 ],
 "metadata": {
  "kernelspec": {
   "display_name": "Python 3",
   "language": "python",
   "name": "python3"
  },
  "language_info": {
   "codemirror_mode": {
    "name": "ipython",
    "version": 3
   },
   "file_extension": ".py",
   "mimetype": "text/x-python",
   "name": "python",
   "nbconvert_exporter": "python",
   "pygments_lexer": "ipython3",
   "version": "3.8.8"
  },
  "toc": {
   "base_numbering": 1,
   "nav_menu": {},
   "number_sections": true,
   "sideBar": true,
   "skip_h1_title": false,
   "title_cell": "Table of Contents",
   "title_sidebar": "Contents",
   "toc_cell": false,
   "toc_position": {},
   "toc_section_display": true,
   "toc_window_display": false
  }
 },
 "nbformat": 4,
 "nbformat_minor": 5
}
